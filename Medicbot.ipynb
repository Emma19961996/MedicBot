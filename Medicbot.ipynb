{
 "cells": [
  {
   "cell_type": "code",
   "execution_count": 1,
   "metadata": {
    "execution": {
     "iopub.execute_input": "2024-11-01T15:16:32.367677Z",
     "iopub.status.busy": "2024-11-01T15:16:32.367311Z",
     "iopub.status.idle": "2024-11-01T15:17:02.115610Z",
     "shell.execute_reply": "2024-11-01T15:17:02.114560Z",
     "shell.execute_reply.started": "2024-11-01T15:16:32.367632Z"
    }
   },
   "outputs": [],
   "source": [
    "# Install Keras 3 last. See https://keras.io/getting_started/ for more details.\n",
    "!pip install -q -U keras-nlp\n",
    "!pip install -q -U keras>=3"
   ]
  },
  {
   "cell_type": "code",
   "execution_count": 2,
   "metadata": {
    "execution": {
     "iopub.execute_input": "2024-11-01T15:17:38.200094Z",
     "iopub.status.busy": "2024-11-01T15:17:38.199673Z",
     "iopub.status.idle": "2024-11-01T15:17:51.040339Z",
     "shell.execute_reply": "2024-11-01T15:17:51.039320Z",
     "shell.execute_reply.started": "2024-11-01T15:17:38.200052Z"
    }
   },
   "outputs": [],
   "source": [
    "import os\n",
    "os.environ[\"KERAS_BACKEND\"] = \"jax\" # you can also use tensorflow or torch\n",
    "os.environ[\"XLA_PYTHON_CLIENT_MEM_FRACTION\"] = \"1.00\" # avoid memory fragmentation on JAX backend.\n",
    "\n",
    "import keras\n",
    "import keras_nlp\n",
    "\n",
    "import numpy as np\n",
    "import pandas as pd\n",
    "from tqdm.notebook import tqdm\n",
    "tqdm.pandas() # progress bar for pandas\n",
    "\n",
    "import plotly.graph_objs as go\n",
    "import plotly.express as px\n",
    "from IPython.display import display, Markdown"
   ]
  },
  {
   "cell_type": "code",
   "execution_count": 3,
   "metadata": {
    "execution": {
     "iopub.execute_input": "2024-11-01T15:18:17.436196Z",
     "iopub.status.busy": "2024-11-01T15:18:17.433711Z",
     "iopub.status.idle": "2024-11-01T15:18:17.440823Z",
     "shell.execute_reply": "2024-11-01T15:18:17.439889Z",
     "shell.execute_reply.started": "2024-11-01T15:18:17.436150Z"
    }
   },
   "outputs": [],
   "source": [
    "class CFG:\n",
    "    seed = 42\n",
    "    dataset_path = \"/kaggle/input/medical-chat\"\n",
    "    preset = \"gemma_2b_en\" # name of pretrained Gemma\n",
    "    sequence_length = 512 # max size of input sequence for training\n",
    "    batch_size = 1  # size of the input batch in training, x 2 as two GPUs\n",
    "    epochs = 10 # number of epochs to train\n",
    "    "
   ]
  },
  {
   "cell_type": "code",
   "execution_count": 4,
   "metadata": {
    "execution": {
     "iopub.execute_input": "2024-11-01T15:18:26.708163Z",
     "iopub.status.busy": "2024-11-01T15:18:26.707450Z",
     "iopub.status.idle": "2024-11-01T15:18:26.712967Z",
     "shell.execute_reply": "2024-11-01T15:18:26.712048Z",
     "shell.execute_reply.started": "2024-11-01T15:18:26.708122Z"
    }
   },
   "outputs": [],
   "source": [
    "keras.utils.set_random_seed(CFG.seed)"
   ]
  },
  {
   "cell_type": "code",
   "execution_count": 5,
   "metadata": {
    "execution": {
     "iopub.execute_input": "2024-11-01T15:18:37.957412Z",
     "iopub.status.busy": "2024-11-01T15:18:37.957019Z",
     "iopub.status.idle": "2024-11-01T15:18:37.963532Z",
     "shell.execute_reply": "2024-11-01T15:18:37.962630Z",
     "shell.execute_reply.started": "2024-11-01T15:18:37.957377Z"
    }
   },
   "outputs": [
    {
     "name": "stdout",
     "output_type": "stream",
     "text": [
      "['medical-chat', 'gemma']\n"
     ]
    }
   ],
   "source": [
    "import os\n",
    "print(os.listdir('/kaggle/input'))"
   ]
  },
  {
   "cell_type": "code",
   "execution_count": 6,
   "metadata": {
    "execution": {
     "iopub.execute_input": "2024-11-01T15:18:48.712849Z",
     "iopub.status.busy": "2024-11-01T15:18:48.712425Z",
     "iopub.status.idle": "2024-11-01T15:18:48.720483Z",
     "shell.execute_reply": "2024-11-01T15:18:48.719403Z",
     "shell.execute_reply.started": "2024-11-01T15:18:48.712802Z"
    }
   },
   "outputs": [
    {
     "name": "stdout",
     "output_type": "stream",
     "text": [
      "['Medical.csv']\n"
     ]
    }
   ],
   "source": [
    "import os\n",
    "print(os.listdir(CFG.dataset_path))\n"
   ]
  },
  {
   "cell_type": "code",
   "execution_count": 7,
   "metadata": {
    "execution": {
     "iopub.execute_input": "2024-11-01T15:18:58.014590Z",
     "iopub.status.busy": "2024-11-01T15:18:58.013719Z",
     "iopub.status.idle": "2024-11-01T15:18:58.473598Z",
     "shell.execute_reply": "2024-11-01T15:18:58.472574Z",
     "shell.execute_reply.started": "2024-11-01T15:18:58.014545Z"
    }
   },
   "outputs": [],
   "source": [
    "#df = pd.read_csv(f\"{CFG.dataset_path}/Medical.csv\")\n",
    "#df.head(2)\n",
    "\n",
    "# Try reading the file with the default encoding (UTF-8) and ignoring errors\n",
    "try:\n",
    "    # Read the CSV with UTF-8 encoding, removing invalid characters\n",
    "    df = pd.read_csv(f\"{CFG.dataset_path}/Medical.csv\", encoding='ISO-8859-1')\n",
    "    df.head(2)\n",
    "except Exception as e:\n",
    "    str(e)"
   ]
  },
  {
   "cell_type": "code",
   "execution_count": 8,
   "metadata": {
    "execution": {
     "iopub.execute_input": "2024-11-01T15:19:08.714741Z",
     "iopub.status.busy": "2024-11-01T15:19:08.714052Z",
     "iopub.status.idle": "2024-11-01T15:19:08.732818Z",
     "shell.execute_reply": "2024-11-01T15:19:08.731985Z",
     "shell.execute_reply.started": "2024-11-01T15:19:08.714701Z"
    }
   },
   "outputs": [
    {
     "data": {
      "text/html": [
       "<div>\n",
       "<style scoped>\n",
       "    .dataframe tbody tr th:only-of-type {\n",
       "        vertical-align: middle;\n",
       "    }\n",
       "\n",
       "    .dataframe tbody tr th {\n",
       "        vertical-align: top;\n",
       "    }\n",
       "\n",
       "    .dataframe thead th {\n",
       "        text-align: right;\n",
       "    }\n",
       "</style>\n",
       "<table border=\"1\" class=\"dataframe\">\n",
       "  <thead>\n",
       "    <tr style=\"text-align: right;\">\n",
       "      <th></th>\n",
       "      <th>qtype</th>\n",
       "      <th>Question</th>\n",
       "      <th>Answer</th>\n",
       "    </tr>\n",
       "  </thead>\n",
       "  <tbody>\n",
       "    <tr>\n",
       "      <th>0</th>\n",
       "      <td>susceptibility</td>\n",
       "      <td>Who is at risk for Lymphocytic Choriomeningiti...</td>\n",
       "      <td>LCMV infections can occur after exposure to fr...</td>\n",
       "    </tr>\n",
       "    <tr>\n",
       "      <th>1</th>\n",
       "      <td>symptoms</td>\n",
       "      <td>What are the symptoms of Lymphocytic Choriomen...</td>\n",
       "      <td>LCMV is most commonly recognized as causing ne...</td>\n",
       "    </tr>\n",
       "  </tbody>\n",
       "</table>\n",
       "</div>"
      ],
      "text/plain": [
       "            qtype                                           Question  \\\n",
       "0  susceptibility  Who is at risk for Lymphocytic Choriomeningiti...   \n",
       "1        symptoms  What are the symptoms of Lymphocytic Choriomen...   \n",
       "\n",
       "                                              Answer  \n",
       "0  LCMV infections can occur after exposure to fr...  \n",
       "1  LCMV is most commonly recognized as causing ne...  "
      ]
     },
     "execution_count": 8,
     "metadata": {},
     "output_type": "execute_result"
    }
   ],
   "source": [
    "df.head(2)"
   ]
  },
  {
   "cell_type": "code",
   "execution_count": 9,
   "metadata": {
    "execution": {
     "iopub.execute_input": "2024-11-01T15:19:19.423735Z",
     "iopub.status.busy": "2024-11-01T15:19:19.423060Z",
     "iopub.status.idle": "2024-11-01T15:19:19.428218Z",
     "shell.execute_reply": "2024-11-01T15:19:19.427215Z",
     "shell.execute_reply.started": "2024-11-01T15:19:19.423696Z"
    }
   },
   "outputs": [],
   "source": [
    "df = df[-1000:].copy()\n"
   ]
  },
  {
   "cell_type": "code",
   "execution_count": 10,
   "metadata": {
    "execution": {
     "iopub.execute_input": "2024-11-01T15:19:23.240309Z",
     "iopub.status.busy": "2024-11-01T15:19:23.239578Z",
     "iopub.status.idle": "2024-11-01T15:19:23.249986Z",
     "shell.execute_reply": "2024-11-01T15:19:23.249060Z",
     "shell.execute_reply.started": "2024-11-01T15:19:23.240271Z"
    }
   },
   "outputs": [
    {
     "data": {
      "text/html": [
       "<div>\n",
       "<style scoped>\n",
       "    .dataframe tbody tr th:only-of-type {\n",
       "        vertical-align: middle;\n",
       "    }\n",
       "\n",
       "    .dataframe tbody tr th {\n",
       "        vertical-align: top;\n",
       "    }\n",
       "\n",
       "    .dataframe thead th {\n",
       "        text-align: right;\n",
       "    }\n",
       "</style>\n",
       "<table border=\"1\" class=\"dataframe\">\n",
       "  <thead>\n",
       "    <tr style=\"text-align: right;\">\n",
       "      <th></th>\n",
       "      <th>qtype</th>\n",
       "      <th>Question</th>\n",
       "      <th>Answer</th>\n",
       "    </tr>\n",
       "  </thead>\n",
       "  <tbody>\n",
       "    <tr>\n",
       "      <th>16450</th>\n",
       "      <td>Side Effects</td>\n",
       "      <td>What are the side effects of Omeprazole?</td>\n",
       "      <td>Common side effects include headache, stomach ...</td>\n",
       "    </tr>\n",
       "    <tr>\n",
       "      <th>16451</th>\n",
       "      <td>Drug Category</td>\n",
       "      <td>What pharmaceutical category does Lisinopril b...</td>\n",
       "      <td>Lisinopril is an ACE inhibitor used to treat h...</td>\n",
       "    </tr>\n",
       "    <tr>\n",
       "      <th>16452</th>\n",
       "      <td>Typical Usage</td>\n",
       "      <td>How is Lisinopril typically used</td>\n",
       "      <td>Lisinopril is usually taken once daily to lowe...</td>\n",
       "    </tr>\n",
       "    <tr>\n",
       "      <th>16453</th>\n",
       "      <td>Dosage</td>\n",
       "      <td>What is the typical dosage for Lisinopril?</td>\n",
       "      <td>The usual starting dose is 10 mg once daily fo...</td>\n",
       "    </tr>\n",
       "    <tr>\n",
       "      <th>16454</th>\n",
       "      <td>Side Effects</td>\n",
       "      <td>What are the side effects of Lisinopril?</td>\n",
       "      <td>Common side effects include cough, dizziness, ...</td>\n",
       "    </tr>\n",
       "  </tbody>\n",
       "</table>\n",
       "</div>"
      ],
      "text/plain": [
       "               qtype                                           Question  \\\n",
       "16450   Side Effects           What are the side effects of Omeprazole?   \n",
       "16451  Drug Category  What pharmaceutical category does Lisinopril b...   \n",
       "16452  Typical Usage                   How is Lisinopril typically used   \n",
       "16453         Dosage         What is the typical dosage for Lisinopril?   \n",
       "16454   Side Effects           What are the side effects of Lisinopril?   \n",
       "\n",
       "                                                  Answer  \n",
       "16450  Common side effects include headache, stomach ...  \n",
       "16451  Lisinopril is an ACE inhibitor used to treat h...  \n",
       "16452  Lisinopril is usually taken once daily to lowe...  \n",
       "16453  The usual starting dose is 10 mg once daily fo...  \n",
       "16454  Common side effects include cough, dizziness, ...  "
      ]
     },
     "execution_count": 10,
     "metadata": {},
     "output_type": "execute_result"
    }
   ],
   "source": [
    "df.tail()"
   ]
  },
  {
   "cell_type": "code",
   "execution_count": 14,
   "metadata": {
    "execution": {
     "iopub.execute_input": "2024-10-20T11:36:36.483737Z",
     "iopub.status.busy": "2024-10-20T11:36:36.483400Z",
     "iopub.status.idle": "2024-10-20T11:36:36.489599Z",
     "shell.execute_reply": "2024-10-20T11:36:36.488832Z",
     "shell.execute_reply.started": "2024-10-20T11:36:36.483706Z"
    }
   },
   "outputs": [],
   "source": [
    "#template = \"\\n\\nqtype:\\nMedical-{qtype}\\n\\nQuestion:\\n{Question}\\n\\nAnswer:\\n{Answer}\""
   ]
  },
  {
   "cell_type": "code",
   "execution_count": 11,
   "metadata": {
    "execution": {
     "iopub.execute_input": "2024-11-01T15:19:33.829495Z",
     "iopub.status.busy": "2024-11-01T15:19:33.829122Z",
     "iopub.status.idle": "2024-11-01T15:19:33.834067Z",
     "shell.execute_reply": "2024-11-01T15:19:33.833056Z",
     "shell.execute_reply.started": "2024-11-01T15:19:33.829460Z"
    }
   },
   "outputs": [],
   "source": [
    "template = \"\\n\\nQuestion:\\n{Question}\\n\\nAnswer:\\n{Answer}\""
   ]
  },
  {
   "cell_type": "code",
   "execution_count": 14,
   "metadata": {
    "execution": {
     "iopub.execute_input": "2024-10-20T20:06:46.145662Z",
     "iopub.status.busy": "2024-10-20T20:06:46.144645Z",
     "iopub.status.idle": "2024-10-20T20:06:46.149339Z",
     "shell.execute_reply": "2024-10-20T20:06:46.148486Z",
     "shell.execute_reply.started": "2024-10-20T20:06:46.145621Z"
    }
   },
   "outputs": [],
   "source": [
    "#from tqdm import tqdm\n",
    "#tqdm.pandas()\n",
    "\n",
    "# Apply the template to each row and create a new 'prompt' column\n",
    "#df[\"prompt\"] = df.progress_apply(lambda row: template.format(qtype=row.qtype,\n",
    "                                                             #Question=row.Question,\n",
    "                                                             #Answer=row.Answer), axis=1)\n",
    "#data = df.prompt.tolist()"
   ]
  },
  {
   "cell_type": "code",
   "execution_count": 12,
   "metadata": {
    "execution": {
     "iopub.execute_input": "2024-11-01T15:19:47.270442Z",
     "iopub.status.busy": "2024-11-01T15:19:47.270091Z",
     "iopub.status.idle": "2024-11-01T15:19:47.313607Z",
     "shell.execute_reply": "2024-11-01T15:19:47.312787Z",
     "shell.execute_reply.started": "2024-11-01T15:19:47.270411Z"
    }
   },
   "outputs": [
    {
     "name": "stderr",
     "output_type": "stream",
     "text": [
      "100%|██████████| 1000/1000 [00:00<00:00, 33572.70it/s]\n"
     ]
    }
   ],
   "source": [
    "from tqdm import tqdm\n",
    "tqdm.pandas()\n",
    "\n",
    "# Apply the template to each row and create a new 'prompt' column\n",
    "df[\"prompt\"] = df.progress_apply(lambda row: template.format(\n",
    "                                                             Question=row.Question,\n",
    "                                                             Answer=row.Answer), axis=1)\n",
    "data = df.prompt.tolist()"
   ]
  },
  {
   "cell_type": "code",
   "execution_count": 16,
   "metadata": {
    "execution": {
     "iopub.execute_input": "2024-10-20T20:06:51.149222Z",
     "iopub.status.busy": "2024-10-20T20:06:51.148509Z",
     "iopub.status.idle": "2024-10-20T20:06:51.153076Z",
     "shell.execute_reply": "2024-10-20T20:06:51.152155Z",
     "shell.execute_reply.started": "2024-10-20T20:06:51.149183Z"
    }
   },
   "outputs": [],
   "source": [
    "# Function to colorize the template text\n",
    "#def colorize_text(text):\n",
    "   # for word, color in zip([\"qtype\", \"Question\", \"Answer\"], [\"blue\", \"red\", \"green\"]):\n",
    "       # text = text.replace(f\"\\n\\n{word}:\", f\"\\n\\n**<font color='{color}'>{word}:</font>**\")\n",
    "   # return text"
   ]
  },
  {
   "cell_type": "code",
   "execution_count": 13,
   "metadata": {
    "execution": {
     "iopub.execute_input": "2024-11-01T15:19:56.333270Z",
     "iopub.status.busy": "2024-11-01T15:19:56.332904Z",
     "iopub.status.idle": "2024-11-01T15:19:56.338419Z",
     "shell.execute_reply": "2024-11-01T15:19:56.337380Z",
     "shell.execute_reply.started": "2024-11-01T15:19:56.333238Z"
    }
   },
   "outputs": [],
   "source": [
    "# Function to colorize the template text\n",
    "def colorize_text(text):\n",
    "    for word, color in zip([\"Question\", \"Answer\"], [\"red\", \"green\"]):\n",
    "        text = text.replace(f\"\\n\\n{word}:\", f\"\\n\\n**<font color='{color}'>{word}:</font>**\")\n",
    "    return text"
   ]
  },
  {
   "cell_type": "code",
   "execution_count": 14,
   "metadata": {
    "execution": {
     "iopub.execute_input": "2024-11-01T15:20:03.159922Z",
     "iopub.status.busy": "2024-11-01T15:20:03.159307Z",
     "iopub.status.idle": "2024-11-01T15:20:03.166582Z",
     "shell.execute_reply": "2024-11-01T15:20:03.165685Z",
     "shell.execute_reply.started": "2024-11-01T15:20:03.159884Z"
    }
   },
   "outputs": [
    {
     "data": {
      "text/markdown": [
       "\n",
       "\n",
       "**<font color='red'>Question:</font>**\n",
       "What are the symptoms of Cleft palate X-linked ?\n",
       "\n",
       "**<font color='green'>Answer:</font>**\n",
       "What are the signs and symptoms of Cleft palate X-linked? The Human Phenotype Ontology provides the following list of signs and symptoms for Cleft palate X-linked. If the information is available, the table below includes how often the symptom is seen in people with this condition. You can use the MedlinePlus Medical Dictionary to look up the definitions for these medical terms. Signs and Symptoms Approximate number of patients (when available) Bifid uvula - Cleft palate - X-linked inheritance - The Human Phenotype Ontology (HPO) has collected information on how often a sign or symptom occurs in a condition. Much of this information comes from Orphanet, a European rare disease database. The frequency of a sign or symptom is usually listed as a rough estimate of the percentage of patients who have that feature. The frequency may also be listed as a fraction. The first number of the fraction is how many people had the symptom, and the second number is the total number of people who were examined in one study. For example, a frequency of 25/25 means that in a study of 25 people all patients were found to have that symptom. Because these frequencies are based on a specific study, the fractions may be different if another group of patients are examined. Sometimes, no information on frequency is available. In these cases, the sign or symptom may be rare or common."
      ],
      "text/plain": [
       "<IPython.core.display.Markdown object>"
      ]
     },
     "metadata": {},
     "output_type": "display_data"
    }
   ],
   "source": [
    "\n",
    "# Take a random sample (for example, the 45th entry from the 'data' list)\n",
    "sample = data[45]\n",
    "\n",
    "# Colorize the sample text (apply colors to 'qtype', 'Question', and 'Answer')\n",
    "sample = colorize_text(sample)\n",
    "\n",
    "# Display the colorized sample in markdown\n",
    "display(Markdown(sample))"
   ]
  },
  {
   "cell_type": "code",
   "execution_count": 15,
   "metadata": {
    "execution": {
     "iopub.execute_input": "2024-11-01T15:20:11.343748Z",
     "iopub.status.busy": "2024-11-01T15:20:11.343376Z",
     "iopub.status.idle": "2024-11-01T15:20:50.774402Z",
     "shell.execute_reply": "2024-11-01T15:20:50.773485Z",
     "shell.execute_reply.started": "2024-11-01T15:20:11.343713Z"
    }
   },
   "outputs": [
    {
     "name": "stderr",
     "output_type": "stream",
     "text": [
      "normalizer.cc(51) LOG(INFO) precompiled_charsmap is empty. use identity normalization.\n"
     ]
    },
    {
     "data": {
      "text/html": [
       "<pre style=\"white-space:pre;overflow-x:auto;line-height:normal;font-family:Menlo,'DejaVu Sans Mono',consolas,'Courier New',monospace\"><span style=\"font-weight: bold\">Preprocessor: \"gemma_causal_lm_preprocessor\"</span>\n",
       "</pre>\n"
      ],
      "text/plain": [
       "\u001b[1mPreprocessor: \"gemma_causal_lm_preprocessor\"\u001b[0m\n"
      ]
     },
     "metadata": {},
     "output_type": "display_data"
    },
    {
     "data": {
      "text/html": [
       "<pre style=\"white-space:pre;overflow-x:auto;line-height:normal;font-family:Menlo,'DejaVu Sans Mono',consolas,'Courier New',monospace\">┏━━━━━━━━━━━━━━━━━━━━━━━━━━━━━━━━━━━━━━━━━━━━━━━━━━━━━━━━━━━━━━━┳━━━━━━━━━━━━━━━━━━━━━━━━━━━━━━━━━━━━━━━━━━┓\n",
       "┃<span style=\"font-weight: bold\"> Layer (type)                                                  </span>┃<span style=\"font-weight: bold\">                                   Config </span>┃\n",
       "┡━━━━━━━━━━━━━━━━━━━━━━━━━━━━━━━━━━━━━━━━━━━━━━━━━━━━━━━━━━━━━━━╇━━━━━━━━━━━━━━━━━━━━━━━━━━━━━━━━━━━━━━━━━━┩\n",
       "│ gemma_tokenizer (<span style=\"color: #0087ff; text-decoration-color: #0087ff\">GemmaTokenizer</span>)                              │                      Vocab size: <span style=\"color: #00af00; text-decoration-color: #00af00\">256,000</span> │\n",
       "└───────────────────────────────────────────────────────────────┴──────────────────────────────────────────┘\n",
       "</pre>\n"
      ],
      "text/plain": [
       "┏━━━━━━━━━━━━━━━━━━━━━━━━━━━━━━━━━━━━━━━━━━━━━━━━━━━━━━━━━━━━━━━┳━━━━━━━━━━━━━━━━━━━━━━━━━━━━━━━━━━━━━━━━━━┓\n",
       "┃\u001b[1m \u001b[0m\u001b[1mLayer (type)                                                 \u001b[0m\u001b[1m \u001b[0m┃\u001b[1m \u001b[0m\u001b[1m                                  Config\u001b[0m\u001b[1m \u001b[0m┃\n",
       "┡━━━━━━━━━━━━━━━━━━━━━━━━━━━━━━━━━━━━━━━━━━━━━━━━━━━━━━━━━━━━━━━╇━━━━━━━━━━━━━━━━━━━━━━━━━━━━━━━━━━━━━━━━━━┩\n",
       "│ gemma_tokenizer (\u001b[38;5;33mGemmaTokenizer\u001b[0m)                              │                      Vocab size: \u001b[38;5;34m256,000\u001b[0m │\n",
       "└───────────────────────────────────────────────────────────────┴──────────────────────────────────────────┘\n"
      ]
     },
     "metadata": {},
     "output_type": "display_data"
    },
    {
     "data": {
      "text/html": [
       "<pre style=\"white-space:pre;overflow-x:auto;line-height:normal;font-family:Menlo,'DejaVu Sans Mono',consolas,'Courier New',monospace\"><span style=\"font-weight: bold\">Model: \"gemma_causal_lm\"</span>\n",
       "</pre>\n"
      ],
      "text/plain": [
       "\u001b[1mModel: \"gemma_causal_lm\"\u001b[0m\n"
      ]
     },
     "metadata": {},
     "output_type": "display_data"
    },
    {
     "data": {
      "text/html": [
       "<pre style=\"white-space:pre;overflow-x:auto;line-height:normal;font-family:Menlo,'DejaVu Sans Mono',consolas,'Courier New',monospace\">┏━━━━━━━━━━━━━━━━━━━━━━━━━━━━━━━┳━━━━━━━━━━━━━━━━━━━━━━━━━━━┳━━━━━━━━━━━━━━━━━┳━━━━━━━━━━━━━━━━━━━━━━━━━━━━┓\n",
       "┃<span style=\"font-weight: bold\"> Layer (type)                  </span>┃<span style=\"font-weight: bold\"> Output Shape              </span>┃<span style=\"font-weight: bold\">         Param # </span>┃<span style=\"font-weight: bold\"> Connected to               </span>┃\n",
       "┡━━━━━━━━━━━━━━━━━━━━━━━━━━━━━━━╇━━━━━━━━━━━━━━━━━━━━━━━━━━━╇━━━━━━━━━━━━━━━━━╇━━━━━━━━━━━━━━━━━━━━━━━━━━━━┩\n",
       "│ padding_mask (<span style=\"color: #0087ff; text-decoration-color: #0087ff\">InputLayer</span>)     │ (<span style=\"color: #00d7ff; text-decoration-color: #00d7ff\">None</span>, <span style=\"color: #00d7ff; text-decoration-color: #00d7ff\">None</span>)              │               <span style=\"color: #00af00; text-decoration-color: #00af00\">0</span> │ -                          │\n",
       "├───────────────────────────────┼───────────────────────────┼─────────────────┼────────────────────────────┤\n",
       "│ token_ids (<span style=\"color: #0087ff; text-decoration-color: #0087ff\">InputLayer</span>)        │ (<span style=\"color: #00d7ff; text-decoration-color: #00d7ff\">None</span>, <span style=\"color: #00d7ff; text-decoration-color: #00d7ff\">None</span>)              │               <span style=\"color: #00af00; text-decoration-color: #00af00\">0</span> │ -                          │\n",
       "├───────────────────────────────┼───────────────────────────┼─────────────────┼────────────────────────────┤\n",
       "│ gemma_backbone                │ (<span style=\"color: #00d7ff; text-decoration-color: #00d7ff\">None</span>, <span style=\"color: #00d7ff; text-decoration-color: #00d7ff\">None</span>, <span style=\"color: #00af00; text-decoration-color: #00af00\">2048</span>)        │   <span style=\"color: #00af00; text-decoration-color: #00af00\">2,506,172,416</span> │ padding_mask[<span style=\"color: #00af00; text-decoration-color: #00af00\">0</span>][<span style=\"color: #00af00; text-decoration-color: #00af00\">0</span>],        │\n",
       "│ (<span style=\"color: #0087ff; text-decoration-color: #0087ff\">GemmaBackbone</span>)               │                           │                 │ token_ids[<span style=\"color: #00af00; text-decoration-color: #00af00\">0</span>][<span style=\"color: #00af00; text-decoration-color: #00af00\">0</span>]            │\n",
       "├───────────────────────────────┼───────────────────────────┼─────────────────┼────────────────────────────┤\n",
       "│ token_embedding               │ (<span style=\"color: #00d7ff; text-decoration-color: #00d7ff\">None</span>, <span style=\"color: #00d7ff; text-decoration-color: #00d7ff\">None</span>, <span style=\"color: #00af00; text-decoration-color: #00af00\">256000</span>)      │     <span style=\"color: #00af00; text-decoration-color: #00af00\">524,288,000</span> │ gemma_backbone[<span style=\"color: #00af00; text-decoration-color: #00af00\">0</span>][<span style=\"color: #00af00; text-decoration-color: #00af00\">0</span>]       │\n",
       "│ (<span style=\"color: #0087ff; text-decoration-color: #0087ff\">ReversibleEmbedding</span>)         │                           │                 │                            │\n",
       "└───────────────────────────────┴───────────────────────────┴─────────────────┴────────────────────────────┘\n",
       "</pre>\n"
      ],
      "text/plain": [
       "┏━━━━━━━━━━━━━━━━━━━━━━━━━━━━━━━┳━━━━━━━━━━━━━━━━━━━━━━━━━━━┳━━━━━━━━━━━━━━━━━┳━━━━━━━━━━━━━━━━━━━━━━━━━━━━┓\n",
       "┃\u001b[1m \u001b[0m\u001b[1mLayer (type)                 \u001b[0m\u001b[1m \u001b[0m┃\u001b[1m \u001b[0m\u001b[1mOutput Shape             \u001b[0m\u001b[1m \u001b[0m┃\u001b[1m \u001b[0m\u001b[1m        Param #\u001b[0m\u001b[1m \u001b[0m┃\u001b[1m \u001b[0m\u001b[1mConnected to              \u001b[0m\u001b[1m \u001b[0m┃\n",
       "┡━━━━━━━━━━━━━━━━━━━━━━━━━━━━━━━╇━━━━━━━━━━━━━━━━━━━━━━━━━━━╇━━━━━━━━━━━━━━━━━╇━━━━━━━━━━━━━━━━━━━━━━━━━━━━┩\n",
       "│ padding_mask (\u001b[38;5;33mInputLayer\u001b[0m)     │ (\u001b[38;5;45mNone\u001b[0m, \u001b[38;5;45mNone\u001b[0m)              │               \u001b[38;5;34m0\u001b[0m │ -                          │\n",
       "├───────────────────────────────┼───────────────────────────┼─────────────────┼────────────────────────────┤\n",
       "│ token_ids (\u001b[38;5;33mInputLayer\u001b[0m)        │ (\u001b[38;5;45mNone\u001b[0m, \u001b[38;5;45mNone\u001b[0m)              │               \u001b[38;5;34m0\u001b[0m │ -                          │\n",
       "├───────────────────────────────┼───────────────────────────┼─────────────────┼────────────────────────────┤\n",
       "│ gemma_backbone                │ (\u001b[38;5;45mNone\u001b[0m, \u001b[38;5;45mNone\u001b[0m, \u001b[38;5;34m2048\u001b[0m)        │   \u001b[38;5;34m2,506,172,416\u001b[0m │ padding_mask[\u001b[38;5;34m0\u001b[0m][\u001b[38;5;34m0\u001b[0m],        │\n",
       "│ (\u001b[38;5;33mGemmaBackbone\u001b[0m)               │                           │                 │ token_ids[\u001b[38;5;34m0\u001b[0m][\u001b[38;5;34m0\u001b[0m]            │\n",
       "├───────────────────────────────┼───────────────────────────┼─────────────────┼────────────────────────────┤\n",
       "│ token_embedding               │ (\u001b[38;5;45mNone\u001b[0m, \u001b[38;5;45mNone\u001b[0m, \u001b[38;5;34m256000\u001b[0m)      │     \u001b[38;5;34m524,288,000\u001b[0m │ gemma_backbone[\u001b[38;5;34m0\u001b[0m][\u001b[38;5;34m0\u001b[0m]       │\n",
       "│ (\u001b[38;5;33mReversibleEmbedding\u001b[0m)         │                           │                 │                            │\n",
       "└───────────────────────────────┴───────────────────────────┴─────────────────┴────────────────────────────┘\n"
      ]
     },
     "metadata": {},
     "output_type": "display_data"
    },
    {
     "data": {
      "text/html": [
       "<pre style=\"white-space:pre;overflow-x:auto;line-height:normal;font-family:Menlo,'DejaVu Sans Mono',consolas,'Courier New',monospace\"><span style=\"font-weight: bold\"> Total params: </span><span style=\"color: #00af00; text-decoration-color: #00af00\">2,506,172,416</span> (9.34 GB)\n",
       "</pre>\n"
      ],
      "text/plain": [
       "\u001b[1m Total params: \u001b[0m\u001b[38;5;34m2,506,172,416\u001b[0m (9.34 GB)\n"
      ]
     },
     "metadata": {},
     "output_type": "display_data"
    },
    {
     "data": {
      "text/html": [
       "<pre style=\"white-space:pre;overflow-x:auto;line-height:normal;font-family:Menlo,'DejaVu Sans Mono',consolas,'Courier New',monospace\"><span style=\"font-weight: bold\"> Trainable params: </span><span style=\"color: #00af00; text-decoration-color: #00af00\">2,506,172,416</span> (9.34 GB)\n",
       "</pre>\n"
      ],
      "text/plain": [
       "\u001b[1m Trainable params: \u001b[0m\u001b[38;5;34m2,506,172,416\u001b[0m (9.34 GB)\n"
      ]
     },
     "metadata": {},
     "output_type": "display_data"
    },
    {
     "data": {
      "text/html": [
       "<pre style=\"white-space:pre;overflow-x:auto;line-height:normal;font-family:Menlo,'DejaVu Sans Mono',consolas,'Courier New',monospace\"><span style=\"font-weight: bold\"> Non-trainable params: </span><span style=\"color: #00af00; text-decoration-color: #00af00\">0</span> (0.00 B)\n",
       "</pre>\n"
      ],
      "text/plain": [
       "\u001b[1m Non-trainable params: \u001b[0m\u001b[38;5;34m0\u001b[0m (0.00 B)\n"
      ]
     },
     "metadata": {},
     "output_type": "display_data"
    }
   ],
   "source": [
    "gemma_lm = keras_nlp.models.GemmaCausalLM.from_preset(\"gemma_2b_en\")\n",
    "gemma_lm.summary()"
   ]
  },
  {
   "cell_type": "code",
   "execution_count": 16,
   "metadata": {
    "execution": {
     "iopub.execute_input": "2024-11-01T15:21:15.564324Z",
     "iopub.status.busy": "2024-11-01T15:21:15.563906Z",
     "iopub.status.idle": "2024-11-01T15:21:15.661310Z",
     "shell.execute_reply": "2024-11-01T15:21:15.660342Z",
     "shell.execute_reply.started": "2024-11-01T15:21:15.564287Z"
    }
   },
   "outputs": [],
   "source": [
    "x, y, sample_weight = gemma_lm.preprocessor(data[0:2])"
   ]
  },
  {
   "cell_type": "code",
   "execution_count": 17,
   "metadata": {
    "execution": {
     "iopub.execute_input": "2024-11-01T15:21:25.525334Z",
     "iopub.status.busy": "2024-11-01T15:21:25.524408Z",
     "iopub.status.idle": "2024-11-01T15:21:25.530217Z",
     "shell.execute_reply": "2024-11-01T15:21:25.529275Z",
     "shell.execute_reply.started": "2024-11-01T15:21:25.525291Z"
    }
   },
   "outputs": [
    {
     "name": "stdout",
     "output_type": "stream",
     "text": [
      "token_ids : (2, 1024)\n",
      "padding_mask : (2, 1024)\n"
     ]
    }
   ],
   "source": [
    "# Display the shape of each processed output\n",
    "for k, v in x.items():\n",
    "    print(k, \":\", v.shape)"
   ]
  },
  {
   "cell_type": "code",
   "execution_count": 22,
   "metadata": {
    "execution": {
     "iopub.execute_input": "2024-10-20T20:08:28.779098Z",
     "iopub.status.busy": "2024-10-20T20:08:28.778719Z",
     "iopub.status.idle": "2024-10-20T20:08:28.783563Z",
     "shell.execute_reply": "2024-10-20T20:08:28.782597Z",
     "shell.execute_reply.started": "2024-10-20T20:08:28.779061Z"
    }
   },
   "outputs": [],
   "source": [
    "# Take one sample\n",
    "#row = df.iloc[2]\n",
    "\n",
    "# Generate Prompt using template\n",
    "#prompt = template.format(\n",
    "    #qtype=row.qtype,\n",
    "    #Question=row.Question,\n",
    "    #Answer=\"\"\n",
    "#)\n",
    "\n",
    "# Infer\n",
    "#output = gemma_lm.generate(prompt, max_length=256)\n",
    "\n",
    "# Colorize\n",
    "#output = colorize_text(output)\n",
    "\n",
    "# Display in markdown\n",
    "#display(Markdown(output))"
   ]
  },
  {
   "cell_type": "code",
   "execution_count": 18,
   "metadata": {
    "execution": {
     "iopub.execute_input": "2024-11-01T15:21:33.291672Z",
     "iopub.status.busy": "2024-11-01T15:21:33.291285Z",
     "iopub.status.idle": "2024-11-01T15:21:47.072802Z",
     "shell.execute_reply": "2024-11-01T15:21:47.071835Z",
     "shell.execute_reply.started": "2024-11-01T15:21:33.291636Z"
    }
   },
   "outputs": [
    {
     "data": {
      "text/markdown": [
       "\n",
       "\n",
       "**<font color='red'>Question:</font>**\n",
       "What are the treatments for Cri du chat syndrome ?\n",
       "\n",
       "**<font color='green'>Answer:</font>**\n",
       "There is no cure for Cri du chat syndrome. However, there are treatments that can help manage the symptoms. These include:\n",
       "\n",
       "- Physical therapy: This can help improve muscle tone and coordination.\n",
       "- Occupational therapy: This can help improve fine motor skills and coordination.\n",
       "- Speech therapy: This can help improve communication skills.\n",
       "- Psychological therapy: This can help improve emotional well-being.\n",
       "- Nutritional therapy: This can help improve growth and development.\n",
       "- Medical therapy: This can help manage symptoms such as seizures and sleep disorders.\n",
       "\n",
       "It is important to work with a team of healthcare professionals to develop a treatment plan that is tailored to the individual needs of the child.\n",
       "\n",
       "**<font color='red'>Question:</font>**\n",
       "What are the causes of Cri du chat syndrome ?\n",
       "\n",
       "**<font color='green'>Answer:</font>**\n",
       "The cause of Cri du chat syndrome is not fully understood. However, it is thought to be a genetic disorder that is caused by a mutation in the CHD8 gene. This gene is responsible for the production of a protein that is involved in the development of the brain and nervous system.\n",
       "\n",
       "**<font color='red'>Question:</font>**\n",
       "What are the symptoms of Cri du chat syndrome ?\n",
       "\n",
       "**<font color='green'>Answer:</font>**\n",
       "The symptoms of Cri du"
      ],
      "text/plain": [
       "<IPython.core.display.Markdown object>"
      ]
     },
     "metadata": {},
     "output_type": "display_data"
    }
   ],
   "source": [
    "# Take one sample\n",
    "row = df.iloc[2]\n",
    "\n",
    "# Generate Prompt using template\n",
    "prompt = template.format(\n",
    "    Question=row.Question,\n",
    "    Answer=\"\"\n",
    ")\n",
    "\n",
    "# Infer\n",
    "output = gemma_lm.generate(prompt, max_length=256)\n",
    "\n",
    "# Colorize\n",
    "output = colorize_text(output)\n",
    "\n",
    "# Display in markdown\n",
    "display(Markdown(output))"
   ]
  },
  {
   "cell_type": "code",
   "execution_count": 24,
   "metadata": {
    "execution": {
     "iopub.execute_input": "2024-10-20T20:08:43.877893Z",
     "iopub.status.busy": "2024-10-20T20:08:43.877521Z",
     "iopub.status.idle": "2024-10-20T20:08:43.886862Z",
     "shell.execute_reply": "2024-10-20T20:08:43.885426Z",
     "shell.execute_reply.started": "2024-10-20T20:08:43.877852Z"
    }
   },
   "outputs": [],
   "source": [
    "# Take one sample\n",
    "#row = df.iloc[45]\n",
    "\n",
    "# Generate Prompt using template\n",
    "#prompt = template.format(\n",
    "    #qtype=row.qtype,\n",
    "    #Question=row.Question,\n",
    "    #Answer=\"\"\n",
    "#)\n",
    "\n",
    "# Infer\n",
    "#output = gemma_lm.generate(prompt, max_length=256)\n",
    "\n",
    "# Colorize\n",
    "#output = colorize_text(output)\n",
    "\n",
    "# Display in markdown\n",
    "#display(Markdown(output))"
   ]
  },
  {
   "cell_type": "code",
   "execution_count": 19,
   "metadata": {
    "execution": {
     "iopub.execute_input": "2024-11-01T15:22:06.694629Z",
     "iopub.status.busy": "2024-11-01T15:22:06.693898Z",
     "iopub.status.idle": "2024-11-01T15:22:12.395111Z",
     "shell.execute_reply": "2024-11-01T15:22:12.394145Z",
     "shell.execute_reply.started": "2024-11-01T15:22:06.694588Z"
    }
   },
   "outputs": [
    {
     "data": {
      "text/markdown": [
       "\n",
       "\n",
       "**<font color='red'>Question:</font>**\n",
       "What are the symptoms of Cleft palate X-linked ?\n",
       "\n",
       "**<font color='green'>Answer:</font>**\n",
       "Cleft palate X-linked is a genetic disorder that affects the development of the palate, which is the roof of the mouth. It is a rare condition that is caused by a mutation in the gene that codes for the protein that forms the palate. The mutation can be passed down from a parent to their child, resulting in a cleft palate.\n",
       "\n",
       "The symptoms of cleft palate X-linked can vary depending on the severity of the condition. Some of the most common symptoms include:\n",
       "\n",
       "* Difficulty with feeding and swallowing\n",
       "* Difficulty with speech\n",
       "* Difficulty with breathing\n",
       "* Difficulty with hearing\n",
       "* Difficulty with dental development\n",
       "* Facial asymmetry\n",
       "* Nasal obstruction\n",
       "* Difficulty with speech\n",
       "* Difficulty with feeding and swallowing\n",
       "* Difficulty with breathing\n",
       "* Difficulty with hearing\n",
       "* Difficulty with dental development\n",
       "* Facial asymmetry\n",
       "* Nasal obstruction\n",
       "* Difficulty with speech\n",
       "* Difficulty with feeding and swallowing\n",
       "* Difficulty with breathing\n",
       "* Difficulty with hearing\n",
       "* Difficulty with dental development\n",
       "* Facial asymmetry\n",
       "* Nasal obstruction\n",
       "* Difficulty with speech\n",
       "* Difficulty with feeding and swallowing\n",
       "* Difficulty with breathing\n",
       "* Difficulty with hearing\n",
       "* Difficulty with dental development\n",
       "* Facial"
      ],
      "text/plain": [
       "<IPython.core.display.Markdown object>"
      ]
     },
     "metadata": {},
     "output_type": "display_data"
    }
   ],
   "source": [
    "# Take one sample\n",
    "row = df.iloc[45]\n",
    "\n",
    "# Generate Prompt using template\n",
    "prompt = template.format(\n",
    "    Question=row.Question,\n",
    "    Answer=\"\"\n",
    ")\n",
    "\n",
    "# Infer\n",
    "output = gemma_lm.generate(prompt, max_length=256)\n",
    "\n",
    "# Colorize\n",
    "output = colorize_text(output)\n",
    "\n",
    "# Display in markdown\n",
    "display(Markdown(output))"
   ]
  },
  {
   "cell_type": "code",
   "execution_count": 20,
   "metadata": {
    "execution": {
     "iopub.execute_input": "2024-11-01T15:22:23.732225Z",
     "iopub.status.busy": "2024-11-01T15:22:23.731811Z",
     "iopub.status.idle": "2024-11-01T15:22:23.983079Z",
     "shell.execute_reply": "2024-11-01T15:22:23.982153Z",
     "shell.execute_reply.started": "2024-11-01T15:22:23.732187Z"
    }
   },
   "outputs": [
    {
     "data": {
      "text/html": [
       "<pre style=\"white-space:pre;overflow-x:auto;line-height:normal;font-family:Menlo,'DejaVu Sans Mono',consolas,'Courier New',monospace\"><span style=\"font-weight: bold\">Preprocessor: \"gemma_causal_lm_preprocessor\"</span>\n",
       "</pre>\n"
      ],
      "text/plain": [
       "\u001b[1mPreprocessor: \"gemma_causal_lm_preprocessor\"\u001b[0m\n"
      ]
     },
     "metadata": {},
     "output_type": "display_data"
    },
    {
     "data": {
      "text/html": [
       "<pre style=\"white-space:pre;overflow-x:auto;line-height:normal;font-family:Menlo,'DejaVu Sans Mono',consolas,'Courier New',monospace\">┏━━━━━━━━━━━━━━━━━━━━━━━━━━━━━━━━━━━━━━━━━━━━━━━━━━━━━━━━━━━━━━━┳━━━━━━━━━━━━━━━━━━━━━━━━━━━━━━━━━━━━━━━━━━┓\n",
       "┃<span style=\"font-weight: bold\"> Layer (type)                                                  </span>┃<span style=\"font-weight: bold\">                                   Config </span>┃\n",
       "┡━━━━━━━━━━━━━━━━━━━━━━━━━━━━━━━━━━━━━━━━━━━━━━━━━━━━━━━━━━━━━━━╇━━━━━━━━━━━━━━━━━━━━━━━━━━━━━━━━━━━━━━━━━━┩\n",
       "│ gemma_tokenizer (<span style=\"color: #0087ff; text-decoration-color: #0087ff\">GemmaTokenizer</span>)                              │                      Vocab size: <span style=\"color: #00af00; text-decoration-color: #00af00\">256,000</span> │\n",
       "└───────────────────────────────────────────────────────────────┴──────────────────────────────────────────┘\n",
       "</pre>\n"
      ],
      "text/plain": [
       "┏━━━━━━━━━━━━━━━━━━━━━━━━━━━━━━━━━━━━━━━━━━━━━━━━━━━━━━━━━━━━━━━┳━━━━━━━━━━━━━━━━━━━━━━━━━━━━━━━━━━━━━━━━━━┓\n",
       "┃\u001b[1m \u001b[0m\u001b[1mLayer (type)                                                 \u001b[0m\u001b[1m \u001b[0m┃\u001b[1m \u001b[0m\u001b[1m                                  Config\u001b[0m\u001b[1m \u001b[0m┃\n",
       "┡━━━━━━━━━━━━━━━━━━━━━━━━━━━━━━━━━━━━━━━━━━━━━━━━━━━━━━━━━━━━━━━╇━━━━━━━━━━━━━━━━━━━━━━━━━━━━━━━━━━━━━━━━━━┩\n",
       "│ gemma_tokenizer (\u001b[38;5;33mGemmaTokenizer\u001b[0m)                              │                      Vocab size: \u001b[38;5;34m256,000\u001b[0m │\n",
       "└───────────────────────────────────────────────────────────────┴──────────────────────────────────────────┘\n"
      ]
     },
     "metadata": {},
     "output_type": "display_data"
    },
    {
     "data": {
      "text/html": [
       "<pre style=\"white-space:pre;overflow-x:auto;line-height:normal;font-family:Menlo,'DejaVu Sans Mono',consolas,'Courier New',monospace\"><span style=\"font-weight: bold\">Model: \"gemma_causal_lm\"</span>\n",
       "</pre>\n"
      ],
      "text/plain": [
       "\u001b[1mModel: \"gemma_causal_lm\"\u001b[0m\n"
      ]
     },
     "metadata": {},
     "output_type": "display_data"
    },
    {
     "data": {
      "text/html": [
       "<pre style=\"white-space:pre;overflow-x:auto;line-height:normal;font-family:Menlo,'DejaVu Sans Mono',consolas,'Courier New',monospace\">┏━━━━━━━━━━━━━━━━━━━━━━━━━━━━━━━┳━━━━━━━━━━━━━━━━━━━━━━━━━━━┳━━━━━━━━━━━━━━━━━┳━━━━━━━━━━━━━━━━━━━━━━━━━━━━┓\n",
       "┃<span style=\"font-weight: bold\"> Layer (type)                  </span>┃<span style=\"font-weight: bold\"> Output Shape              </span>┃<span style=\"font-weight: bold\">         Param # </span>┃<span style=\"font-weight: bold\"> Connected to               </span>┃\n",
       "┡━━━━━━━━━━━━━━━━━━━━━━━━━━━━━━━╇━━━━━━━━━━━━━━━━━━━━━━━━━━━╇━━━━━━━━━━━━━━━━━╇━━━━━━━━━━━━━━━━━━━━━━━━━━━━┩\n",
       "│ padding_mask (<span style=\"color: #0087ff; text-decoration-color: #0087ff\">InputLayer</span>)     │ (<span style=\"color: #00d7ff; text-decoration-color: #00d7ff\">None</span>, <span style=\"color: #00d7ff; text-decoration-color: #00d7ff\">None</span>)              │               <span style=\"color: #00af00; text-decoration-color: #00af00\">0</span> │ -                          │\n",
       "├───────────────────────────────┼───────────────────────────┼─────────────────┼────────────────────────────┤\n",
       "│ token_ids (<span style=\"color: #0087ff; text-decoration-color: #0087ff\">InputLayer</span>)        │ (<span style=\"color: #00d7ff; text-decoration-color: #00d7ff\">None</span>, <span style=\"color: #00d7ff; text-decoration-color: #00d7ff\">None</span>)              │               <span style=\"color: #00af00; text-decoration-color: #00af00\">0</span> │ -                          │\n",
       "├───────────────────────────────┼───────────────────────────┼─────────────────┼────────────────────────────┤\n",
       "│ gemma_backbone                │ (<span style=\"color: #00d7ff; text-decoration-color: #00d7ff\">None</span>, <span style=\"color: #00d7ff; text-decoration-color: #00d7ff\">None</span>, <span style=\"color: #00af00; text-decoration-color: #00af00\">2048</span>)        │   <span style=\"color: #00af00; text-decoration-color: #00af00\">2,508,900,352</span> │ padding_mask[<span style=\"color: #00af00; text-decoration-color: #00af00\">0</span>][<span style=\"color: #00af00; text-decoration-color: #00af00\">0</span>],        │\n",
       "│ (<span style=\"color: #0087ff; text-decoration-color: #0087ff\">GemmaBackbone</span>)               │                           │                 │ token_ids[<span style=\"color: #00af00; text-decoration-color: #00af00\">0</span>][<span style=\"color: #00af00; text-decoration-color: #00af00\">0</span>]            │\n",
       "├───────────────────────────────┼───────────────────────────┼─────────────────┼────────────────────────────┤\n",
       "│ token_embedding               │ (<span style=\"color: #00d7ff; text-decoration-color: #00d7ff\">None</span>, <span style=\"color: #00d7ff; text-decoration-color: #00d7ff\">None</span>, <span style=\"color: #00af00; text-decoration-color: #00af00\">256000</span>)      │     <span style=\"color: #00af00; text-decoration-color: #00af00\">524,288,000</span> │ gemma_backbone[<span style=\"color: #00af00; text-decoration-color: #00af00\">0</span>][<span style=\"color: #00af00; text-decoration-color: #00af00\">0</span>]       │\n",
       "│ (<span style=\"color: #0087ff; text-decoration-color: #0087ff\">ReversibleEmbedding</span>)         │                           │                 │                            │\n",
       "└───────────────────────────────┴───────────────────────────┴─────────────────┴────────────────────────────┘\n",
       "</pre>\n"
      ],
      "text/plain": [
       "┏━━━━━━━━━━━━━━━━━━━━━━━━━━━━━━━┳━━━━━━━━━━━━━━━━━━━━━━━━━━━┳━━━━━━━━━━━━━━━━━┳━━━━━━━━━━━━━━━━━━━━━━━━━━━━┓\n",
       "┃\u001b[1m \u001b[0m\u001b[1mLayer (type)                 \u001b[0m\u001b[1m \u001b[0m┃\u001b[1m \u001b[0m\u001b[1mOutput Shape             \u001b[0m\u001b[1m \u001b[0m┃\u001b[1m \u001b[0m\u001b[1m        Param #\u001b[0m\u001b[1m \u001b[0m┃\u001b[1m \u001b[0m\u001b[1mConnected to              \u001b[0m\u001b[1m \u001b[0m┃\n",
       "┡━━━━━━━━━━━━━━━━━━━━━━━━━━━━━━━╇━━━━━━━━━━━━━━━━━━━━━━━━━━━╇━━━━━━━━━━━━━━━━━╇━━━━━━━━━━━━━━━━━━━━━━━━━━━━┩\n",
       "│ padding_mask (\u001b[38;5;33mInputLayer\u001b[0m)     │ (\u001b[38;5;45mNone\u001b[0m, \u001b[38;5;45mNone\u001b[0m)              │               \u001b[38;5;34m0\u001b[0m │ -                          │\n",
       "├───────────────────────────────┼───────────────────────────┼─────────────────┼────────────────────────────┤\n",
       "│ token_ids (\u001b[38;5;33mInputLayer\u001b[0m)        │ (\u001b[38;5;45mNone\u001b[0m, \u001b[38;5;45mNone\u001b[0m)              │               \u001b[38;5;34m0\u001b[0m │ -                          │\n",
       "├───────────────────────────────┼───────────────────────────┼─────────────────┼────────────────────────────┤\n",
       "│ gemma_backbone                │ (\u001b[38;5;45mNone\u001b[0m, \u001b[38;5;45mNone\u001b[0m, \u001b[38;5;34m2048\u001b[0m)        │   \u001b[38;5;34m2,508,900,352\u001b[0m │ padding_mask[\u001b[38;5;34m0\u001b[0m][\u001b[38;5;34m0\u001b[0m],        │\n",
       "│ (\u001b[38;5;33mGemmaBackbone\u001b[0m)               │                           │                 │ token_ids[\u001b[38;5;34m0\u001b[0m][\u001b[38;5;34m0\u001b[0m]            │\n",
       "├───────────────────────────────┼───────────────────────────┼─────────────────┼────────────────────────────┤\n",
       "│ token_embedding               │ (\u001b[38;5;45mNone\u001b[0m, \u001b[38;5;45mNone\u001b[0m, \u001b[38;5;34m256000\u001b[0m)      │     \u001b[38;5;34m524,288,000\u001b[0m │ gemma_backbone[\u001b[38;5;34m0\u001b[0m][\u001b[38;5;34m0\u001b[0m]       │\n",
       "│ (\u001b[38;5;33mReversibleEmbedding\u001b[0m)         │                           │                 │                            │\n",
       "└───────────────────────────────┴───────────────────────────┴─────────────────┴────────────────────────────┘\n"
      ]
     },
     "metadata": {},
     "output_type": "display_data"
    },
    {
     "data": {
      "text/html": [
       "<pre style=\"white-space:pre;overflow-x:auto;line-height:normal;font-family:Menlo,'DejaVu Sans Mono',consolas,'Courier New',monospace\"><span style=\"font-weight: bold\"> Total params: </span><span style=\"color: #00af00; text-decoration-color: #00af00\">2,508,900,352</span> (9.35 GB)\n",
       "</pre>\n"
      ],
      "text/plain": [
       "\u001b[1m Total params: \u001b[0m\u001b[38;5;34m2,508,900,352\u001b[0m (9.35 GB)\n"
      ]
     },
     "metadata": {},
     "output_type": "display_data"
    },
    {
     "data": {
      "text/html": [
       "<pre style=\"white-space:pre;overflow-x:auto;line-height:normal;font-family:Menlo,'DejaVu Sans Mono',consolas,'Courier New',monospace\"><span style=\"font-weight: bold\"> Trainable params: </span><span style=\"color: #00af00; text-decoration-color: #00af00\">2,727,936</span> (10.41 MB)\n",
       "</pre>\n"
      ],
      "text/plain": [
       "\u001b[1m Trainable params: \u001b[0m\u001b[38;5;34m2,727,936\u001b[0m (10.41 MB)\n"
      ]
     },
     "metadata": {},
     "output_type": "display_data"
    },
    {
     "data": {
      "text/html": [
       "<pre style=\"white-space:pre;overflow-x:auto;line-height:normal;font-family:Menlo,'DejaVu Sans Mono',consolas,'Courier New',monospace\"><span style=\"font-weight: bold\"> Non-trainable params: </span><span style=\"color: #00af00; text-decoration-color: #00af00\">2,506,172,416</span> (9.34 GB)\n",
       "</pre>\n"
      ],
      "text/plain": [
       "\u001b[1m Non-trainable params: \u001b[0m\u001b[38;5;34m2,506,172,416\u001b[0m (9.34 GB)\n"
      ]
     },
     "metadata": {},
     "output_type": "display_data"
    }
   ],
   "source": [
    "# Enable LoRA for the model and set the LoRA rank to 4.\n",
    "gemma_lm.backbone.enable_lora(rank=8)\n",
    "gemma_lm.summary()"
   ]
  },
  {
   "cell_type": "code",
   "execution_count": 27,
   "metadata": {
    "execution": {
     "iopub.execute_input": "2024-10-20T20:08:49.853582Z",
     "iopub.status.busy": "2024-10-20T20:08:49.853255Z",
     "iopub.status.idle": "2024-10-20T22:08:43.735703Z",
     "shell.execute_reply": "2024-10-20T22:08:43.734763Z",
     "shell.execute_reply.started": "2024-10-20T20:08:49.853549Z"
    }
   },
   "outputs": [
    {
     "name": "stdout",
     "output_type": "stream",
     "text": [
      "Epoch 1/10\n",
      "\u001b[1m1000/1000\u001b[0m \u001b[32m━━━━━━━━━━━━━━━━━━━━\u001b[0m\u001b[37m\u001b[0m \u001b[1m742s\u001b[0m 723ms/step - loss: 0.7530 - sparse_categorical_accuracy: 0.6834\n",
      "Epoch 2/10\n",
      "\u001b[1m1000/1000\u001b[0m \u001b[32m━━━━━━━━━━━━━━━━━━━━\u001b[0m\u001b[37m\u001b[0m \u001b[1m724s\u001b[0m 716ms/step - loss: 0.5310 - sparse_categorical_accuracy: 0.7767\n",
      "Epoch 3/10\n",
      "\u001b[1m1000/1000\u001b[0m \u001b[32m━━━━━━━━━━━━━━━━━━━━\u001b[0m\u001b[37m\u001b[0m \u001b[1m716s\u001b[0m 713ms/step - loss: 0.5026 - sparse_categorical_accuracy: 0.7866\n",
      "Epoch 4/10\n",
      "\u001b[1m1000/1000\u001b[0m \u001b[32m━━━━━━━━━━━━━━━━━━━━\u001b[0m\u001b[37m\u001b[0m \u001b[1m716s\u001b[0m 713ms/step - loss: 0.4807 - sparse_categorical_accuracy: 0.7936\n",
      "Epoch 5/10\n",
      "\u001b[1m1000/1000\u001b[0m \u001b[32m━━━━━━━━━━━━━━━━━━━━\u001b[0m\u001b[37m\u001b[0m \u001b[1m716s\u001b[0m 713ms/step - loss: 0.4594 - sparse_categorical_accuracy: 0.8013\n",
      "Epoch 6/10\n",
      "\u001b[1m1000/1000\u001b[0m \u001b[32m━━━━━━━━━━━━━━━━━━━━\u001b[0m\u001b[37m\u001b[0m \u001b[1m716s\u001b[0m 713ms/step - loss: 0.4408 - sparse_categorical_accuracy: 0.8080\n",
      "Epoch 7/10\n",
      "\u001b[1m1000/1000\u001b[0m \u001b[32m━━━━━━━━━━━━━━━━━━━━\u001b[0m\u001b[37m\u001b[0m \u001b[1m716s\u001b[0m 713ms/step - loss: 0.4236 - sparse_categorical_accuracy: 0.8137\n",
      "Epoch 8/10\n",
      "\u001b[1m1000/1000\u001b[0m \u001b[32m━━━━━━━━━━━━━━━━━━━━\u001b[0m\u001b[37m\u001b[0m \u001b[1m716s\u001b[0m 713ms/step - loss: 0.4063 - sparse_categorical_accuracy: 0.8238\n",
      "Epoch 9/10\n",
      "\u001b[1m1000/1000\u001b[0m \u001b[32m━━━━━━━━━━━━━━━━━━━━\u001b[0m\u001b[37m\u001b[0m \u001b[1m716s\u001b[0m 713ms/step - loss: 0.3902 - sparse_categorical_accuracy: 0.8299\n",
      "Epoch 10/10\n",
      "\u001b[1m1000/1000\u001b[0m \u001b[32m━━━━━━━━━━━━━━━━━━━━\u001b[0m\u001b[37m\u001b[0m \u001b[1m716s\u001b[0m 713ms/step - loss: 0.3766 - sparse_categorical_accuracy: 0.8353\n"
     ]
    },
    {
     "data": {
      "text/plain": [
       "<keras.src.callbacks.history.History at 0x7e36585b1ba0>"
      ]
     },
     "execution_count": 27,
     "metadata": {},
     "output_type": "execute_result"
    }
   ],
   "source": [
    "# Limit the input sequence length to 512 (to control memory usage).\n",
    "gemma_lm.preprocessor.sequence_length = CFG.sequence_length \n",
    "\n",
    "# Compile the model with loss, optimizer, and metric\n",
    "gemma_lm.compile(\n",
    "    loss=keras.losses.SparseCategoricalCrossentropy(from_logits=True),\n",
    "    optimizer=keras.optimizers.Adam(learning_rate=8e-5),\n",
    "    weighted_metrics=[keras.metrics.SparseCategoricalAccuracy()],\n",
    ")\n",
    "\n",
    "# Train model\n",
    "gemma_lm.fit(data, epochs=CFG.epochs, batch_size=CFG.batch_size)"
   ]
  },
  {
   "cell_type": "code",
   "execution_count": 21,
   "metadata": {
    "execution": {
     "iopub.execute_input": "2024-11-01T15:26:54.446294Z",
     "iopub.status.busy": "2024-11-01T15:26:54.445332Z",
     "iopub.status.idle": "2024-11-01T17:27:10.857576Z",
     "shell.execute_reply": "2024-11-01T17:27:10.856494Z",
     "shell.execute_reply.started": "2024-11-01T15:26:54.446253Z"
    }
   },
   "outputs": [
    {
     "name": "stdout",
     "output_type": "stream",
     "text": [
      "Epoch 1/10\n",
      "\u001b[1m1000/1000\u001b[0m \u001b[32m━━━━━━━━━━━━━━━━━━━━\u001b[0m\u001b[37m\u001b[0m \u001b[1m744s\u001b[0m 725ms/step - loss: 0.7586 - sparse_categorical_accuracy: 0.6811\n",
      "Epoch 2/10\n",
      "\u001b[1m1000/1000\u001b[0m \u001b[32m━━━━━━━━━━━━━━━━━━━━\u001b[0m\u001b[37m\u001b[0m \u001b[1m726s\u001b[0m 718ms/step - loss: 0.5308 - sparse_categorical_accuracy: 0.7768\n",
      "Epoch 3/10\n",
      "\u001b[1m1000/1000\u001b[0m \u001b[32m━━━━━━━━━━━━━━━━━━━━\u001b[0m\u001b[37m\u001b[0m \u001b[1m718s\u001b[0m 715ms/step - loss: 0.5024 - sparse_categorical_accuracy: 0.7865\n",
      "Epoch 4/10\n",
      "\u001b[1m1000/1000\u001b[0m \u001b[32m━━━━━━━━━━━━━━━━━━━━\u001b[0m\u001b[37m\u001b[0m \u001b[1m718s\u001b[0m 715ms/step - loss: 0.4800 - sparse_categorical_accuracy: 0.7944\n",
      "Epoch 5/10\n",
      "\u001b[1m1000/1000\u001b[0m \u001b[32m━━━━━━━━━━━━━━━━━━━━\u001b[0m\u001b[37m\u001b[0m \u001b[1m718s\u001b[0m 715ms/step - loss: 0.4613 - sparse_categorical_accuracy: 0.8006\n",
      "Epoch 6/10\n",
      "\u001b[1m1000/1000\u001b[0m \u001b[32m━━━━━━━━━━━━━━━━━━━━\u001b[0m\u001b[37m\u001b[0m \u001b[1m718s\u001b[0m 715ms/step - loss: 0.4415 - sparse_categorical_accuracy: 0.8081\n",
      "Epoch 7/10\n",
      "\u001b[1m1000/1000\u001b[0m \u001b[32m━━━━━━━━━━━━━━━━━━━━\u001b[0m\u001b[37m\u001b[0m \u001b[1m718s\u001b[0m 715ms/step - loss: 0.4227 - sparse_categorical_accuracy: 0.8146\n",
      "Epoch 8/10\n",
      "\u001b[1m1000/1000\u001b[0m \u001b[32m━━━━━━━━━━━━━━━━━━━━\u001b[0m\u001b[37m\u001b[0m \u001b[1m718s\u001b[0m 715ms/step - loss: 0.4075 - sparse_categorical_accuracy: 0.8235\n",
      "Epoch 9/10\n",
      "\u001b[1m1000/1000\u001b[0m \u001b[32m━━━━━━━━━━━━━━━━━━━━\u001b[0m\u001b[37m\u001b[0m \u001b[1m718s\u001b[0m 715ms/step - loss: 0.3929 - sparse_categorical_accuracy: 0.8285\n",
      "Epoch 10/10\n",
      "\u001b[1m1000/1000\u001b[0m \u001b[32m━━━━━━━━━━━━━━━━━━━━\u001b[0m\u001b[37m\u001b[0m \u001b[1m718s\u001b[0m 715ms/step - loss: 0.3758 - sparse_categorical_accuracy: 0.8358\n"
     ]
    },
    {
     "data": {
      "image/png": "[encoded data removed]",
      "text/plain": [
       "<Figure size 1200x500 with 2 Axes>"
      ]
     },
     "metadata": {},
     "output_type": "display_data"
    }
   ],
   "source": [
    "import matplotlib.pyplot as plt\n",
    "\n",
    "# Set the sequence length to control memory usage\n",
    "gemma_lm.preprocessor.sequence_length = CFG.sequence_length\n",
    "\n",
    "# Compile the model with loss, optimizer, and metrics\n",
    "gemma_lm.compile(\n",
    "    loss=keras.losses.SparseCategoricalCrossentropy(from_logits=True),\n",
    "    optimizer=keras.optimizers.Adam(learning_rate=8e-5),\n",
    "    weighted_metrics=[keras.metrics.SparseCategoricalAccuracy()],\n",
    ")\n",
    "\n",
    "# Train model and save the history\n",
    "history = gemma_lm.fit(data, epochs=CFG.epochs, batch_size=CFG.batch_size)\n",
    "\n",
    "# Plot accuracy and loss\n",
    "def plot_training_history(history):\n",
    "    # Create a figure for the plots\n",
    "    plt.figure(figsize=(12, 5))\n",
    "\n",
    "    # Loss plot\n",
    "    plt.subplot(1, 2, 1)\n",
    "    plt.plot(history.history['loss'], label='Training Loss')\n",
    "    plt.xlabel('Epoch')\n",
    "    plt.ylabel('Loss')\n",
    "    plt.title('Training Loss')\n",
    "    plt.legend()\n",
    "\n",
    "    # Accuracy plot\n",
    "    plt.subplot(1, 2, 2)\n",
    "    plt.plot(history.history['sparse_categorical_accuracy'], label='Training Accuracy')\n",
    "    plt.xlabel('Epoch')\n",
    "    plt.ylabel('Accuracy')\n",
    "    plt.title('Training Accuracy')\n",
    "    plt.legend()\n",
    "\n",
    "    plt.tight_layout()\n",
    "    plt.show()\n",
    "\n",
    "# Call the function to display plots\n",
    "plot_training_history(history)\n"
   ]
  },
  {
   "cell_type": "code",
   "execution_count": null,
   "metadata": {},
   "outputs": [],
   "source": []
  },
  {
   "cell_type": "code",
   "execution_count": 28,
   "metadata": {
    "execution": {
     "iopub.execute_input": "2024-10-20T22:08:58.278648Z",
     "iopub.status.busy": "2024-10-20T22:08:58.277731Z",
     "iopub.status.idle": "2024-10-20T22:09:17.768049Z",
     "shell.execute_reply": "2024-10-20T22:09:17.767094Z",
     "shell.execute_reply.started": "2024-10-20T22:08:58.278587Z"
    }
   },
   "outputs": [
    {
     "data": {
      "text/markdown": [
       "\n",
       "\n",
       "**<font color='red'>Question:</font>**\n",
       "What are the symptoms of Cleft palate X-linked ?\n",
       "\n",
       "**<font color='green'>Answer:</font>**\n",
       "What are the signs and symptoms of Cleft palate X-linked? The Human Phenotype Ontology provides the following list of signs and symptoms for Cleft palate X-linked. If the information is available, the table below includes how often the symptom is seen in people with this condition. You can use the MedlinePlus Medical Dictionary to look up the definitions for these medical terms. Signs and Symptoms Approximate number of patients (when available) Abnormality of the palate 90% Abnormality of the teeth 90% Aplasia/Hypoplasia of the palate 90% Cognitive impairment 90% Feeding difficulties 90% Hearing impairment 90% Hyperactivity 90% Hyperreflexia 90% Hypertonia 90% Intellectual disability 90% Malabsorption 90% Muscular hypotonia 90% Seizures 90% Speech impairment 90% Abnormality of the palate - Abnormality of the teeth - Aplasia/Hypoplasia of the palate - Cognitive impairment - Hyperactivity - Hyperreflexia - Hypertonia - Intellectual disability - Speech impairment - The Human Phenotype Ontology (HPO) has collected information on how often a sign or symptom occurs in a condition. Much of this information comes from Orphanet, a European rare disease database. The frequency of a sign or symptom is usually listed as a rough estimate of the percentage of patients who have that feature. The frequency may also be listed as a fraction. The first number of the fraction is how many people had the symptom, and the second number is the total number of people who were examined in one study. For example, a frequency of 25/25 means that in a study of 25 people all patients were found to have that symptom. Because these frequencies are based on a specific study, the fractions may be different if another group of patients are examined. Sometimes, no information on frequency is available. In these cases, the sign or symptom may be rare or common."
      ],
      "text/plain": [
       "<IPython.core.display.Markdown object>"
      ]
     },
     "metadata": {},
     "output_type": "display_data"
    }
   ],
   "source": [
    "# Take one sample\n",
    "row = df.iloc[45]\n",
    "\n",
    "# Generate Prompt using template\n",
    "prompt = template.format(\n",
    "    Question=row.Question,\n",
    "    Answer=\"\"\n",
    ")\n",
    "\n",
    "# Infer\n",
    "output = gemma_lm.generate(prompt, max_length=512)\n",
    "\n",
    "# Colorize\n",
    "output = colorize_text(output)\n",
    "\n",
    "# Display in markdown\n",
    "display(Markdown(output))"
   ]
  },
  {
   "cell_type": "code",
   "execution_count": 29,
   "metadata": {
    "execution": {
     "iopub.execute_input": "2024-10-20T22:09:29.590134Z",
     "iopub.status.busy": "2024-10-20T22:09:29.589161Z",
     "iopub.status.idle": "2024-10-20T22:09:32.950462Z",
     "shell.execute_reply": "2024-10-20T22:09:32.949485Z",
     "shell.execute_reply.started": "2024-10-20T22:09:29.590090Z"
    }
   },
   "outputs": [
    {
     "data": {
      "text/markdown": [
       "\n",
       "\n",
       "**<font color='red'>Question:</font>**\n",
       "What are the treatments for Cri du chat syndrome ?\n",
       "\n",
       "**<font color='green'>Answer:</font>**\n",
       "How might Cri du chat syndrome be treated? Treatment of Cri du chat syndrome is directed toward the specific symptoms that the child is experiencing. For example, if a child has difficulty swallowing, treatment may include a special diet, special foods, or a feeding tube. If a child has difficulty speaking, treatment may include speech therapy. If a child has difficulty with motor skills, such as walking or using his or her hands, treatment may include physical therapy. If a child has seizures, treatment may include medication. If a child has a heart murmur, treatment may include surgery."
      ],
      "text/plain": [
       "<IPython.core.display.Markdown object>"
      ]
     },
     "metadata": {},
     "output_type": "display_data"
    }
   ],
   "source": [
    "# Take one sample\n",
    "row = df.iloc[2]\n",
    "\n",
    "# Generate Prompt using template\n",
    "prompt = template.format(\n",
    "    Question=row.Question,\n",
    "    Answer=\"\"\n",
    ")\n",
    "\n",
    "# Infer\n",
    "output = gemma_lm.generate(prompt, max_length=512)\n",
    "\n",
    "# Colorize\n",
    "output = colorize_text(output)\n",
    "\n",
    "# Display in markdown\n",
    "display(Markdown(output))"
   ]
  },
  {
   "cell_type": "code",
   "execution_count": 30,
   "metadata": {
    "execution": {
     "iopub.execute_input": "2024-10-20T22:09:38.998156Z",
     "iopub.status.busy": "2024-10-20T22:09:38.997250Z",
     "iopub.status.idle": "2024-10-20T22:09:39.830522Z",
     "shell.execute_reply": "2024-10-20T22:09:39.829601Z",
     "shell.execute_reply.started": "2024-10-20T22:09:38.998100Z"
    }
   },
   "outputs": [
    {
     "data": {
      "text/markdown": [
       "\n",
       "\n",
       "**<font color='red'>Question:</font>**\n",
       "How is Lisinopril typically used?\n",
       "\n",
       "**<font color='green'>Answer:</font>**\n",
       "Lisinopril is used to lower blood pressure and treat high blood pressure (hypertension)."
      ],
      "text/plain": [
       "<IPython.core.display.Markdown object>"
      ]
     },
     "metadata": {},
     "output_type": "display_data"
    }
   ],
   "source": [
    "# Generate Prompt using template\n",
    "prompt = template.format(\n",
    "    Question=\"How is Lisinopril typically used?\",\n",
    "    Answer=\"\"\n",
    ")\n",
    "\n",
    "# Infer\n",
    "output = gemma_lm.generate(prompt, max_length=512)\n",
    "\n",
    "# Colorize\n",
    "output = colorize_text(output)\n",
    "\n",
    "# Display in markdown\n",
    "display(Markdown(output))"
   ]
  },
  {
   "cell_type": "code",
   "execution_count": 31,
   "metadata": {
    "execution": {
     "iopub.execute_input": "2024-10-20T22:09:46.749901Z",
     "iopub.status.busy": "2024-10-20T22:09:46.748969Z",
     "iopub.status.idle": "2024-10-20T22:09:48.043292Z",
     "shell.execute_reply": "2024-10-20T22:09:48.042344Z",
     "shell.execute_reply.started": "2024-10-20T22:09:46.749856Z"
    }
   },
   "outputs": [
    {
     "data": {
      "text/markdown": [
       "\n",
       "\n",
       "**<font color='red'>Question:</font>**\n",
       "what is the usage of paracetamol?\n",
       "\n",
       "**<font color='green'>Answer:</font>**\n",
       "Paracetamol is a pain reliever and fever reducer that is used to relieve pain by decreasing fever. It is available in different doses and strengths, and can be taken by adults and children."
      ],
      "text/plain": [
       "<IPython.core.display.Markdown object>"
      ]
     },
     "metadata": {},
     "output_type": "display_data"
    }
   ],
   "source": [
    "# Generate Prompt using template\n",
    "prompt = template.format(\n",
    "    Question=\"what is the usage of paracetamol?\",\n",
    "    Answer=\"\"\n",
    ")\n",
    "\n",
    "# Infer\n",
    "output = gemma_lm.generate(prompt, max_length=512)\n",
    "\n",
    "# Colorize\n",
    "output = colorize_text(output)\n",
    "\n",
    "# Display in markdown\n",
    "display(Markdown(output))"
   ]
  },
  {
   "cell_type": "code",
   "execution_count": 32,
   "metadata": {
    "execution": {
     "iopub.execute_input": "2024-10-20T22:09:58.755257Z",
     "iopub.status.busy": "2024-10-20T22:09:58.754878Z",
     "iopub.status.idle": "2024-10-20T22:10:34.960728Z",
     "shell.execute_reply": "2024-10-20T22:10:34.959704Z",
     "shell.execute_reply.started": "2024-10-20T22:09:58.755221Z"
    }
   },
   "outputs": [],
   "source": [
    "gemma_lm.save_to_preset(\"./gemma-medic-bot-2b-en\")"
   ]
  },
  {
   "cell_type": "code",
   "execution_count": 33,
   "metadata": {
    "execution": {
     "iopub.execute_input": "2024-10-20T22:14:43.540400Z",
     "iopub.status.busy": "2024-10-20T22:14:43.539980Z",
     "iopub.status.idle": "2024-10-20T22:14:43.825111Z",
     "shell.execute_reply": "2024-10-20T22:14:43.824125Z",
     "shell.execute_reply.started": "2024-10-20T22:14:43.540351Z"
    }
   },
   "outputs": [
    {
     "name": "stdout",
     "output_type": "stream",
     "text": [
      "The token has not been saved to the git credentials helper. Pass `add_to_git_credential=True` in this function directly or `--add-to-git-credential` if using via `huggingface-cli` if you want to set the git credential as well.\n",
      "Token is valid (permission: write).\n",
      "Your token has been saved to /root/.cache/huggingface/token\n",
      "Login successful\n"
     ]
    }
   ],
   "source": [
    "import huggingface_hub\n",
    "\n",
    "# Directly use your Hugging Face token here (replace \"your_huggingface_token\" with your actual token)\n",
    "huggingface_hub.login(token=\"*****************\")"
   ]
  },
  {
   "cell_type": "code",
   "execution_count": 34,
   "metadata": {
    "execution": {
     "iopub.execute_input": "2024-10-20T22:21:44.973278Z",
     "iopub.status.busy": "2024-10-20T22:21:44.972877Z",
     "iopub.status.idle": "2024-10-20T22:21:44.978587Z",
     "shell.execute_reply": "2024-10-20T22:21:44.977659Z",
     "shell.execute_reply.started": "2024-10-20T22:21:44.973241Z"
    }
   },
   "outputs": [
    {
     "name": "stdout",
     "output_type": "stream",
     "text": [
      "hf://EmmaGozie/gemma-medic-bot-2b-en\n"
     ]
    }
   ],
   "source": [
    "#hf_username = \"EmmaGozie\"\n",
    "#model_variant_name = \"gemma-medic-bot-2b-en\"\n",
    "\n",
    "#uri = f\"hf://{hf_username}/{model_variant_name}\"\n",
    "#print(uri)"
   ]
  },
  {
   "cell_type": "code",
   "execution_count": 39,
   "metadata": {
    "execution": {
     "iopub.execute_input": "2024-10-20T22:31:52.924834Z",
     "iopub.status.busy": "2024-10-20T22:31:52.924431Z",
     "iopub.status.idle": "2024-10-20T22:31:52.929147Z",
     "shell.execute_reply": "2024-10-20T22:31:52.928194Z",
     "shell.execute_reply.started": "2024-10-20T22:31:52.924799Z"
    }
   },
   "outputs": [],
   "source": [
    "hf_uri = \"hf://EmmaGozie/gemma-medic-bot-2b-en\""
   ]
  },
  {
   "cell_type": "code",
   "execution_count": 40,
   "metadata": {
    "execution": {
     "iopub.execute_input": "2024-10-20T22:31:58.749828Z",
     "iopub.status.busy": "2024-10-20T22:31:58.749375Z",
     "iopub.status.idle": "2024-10-20T22:36:40.903380Z",
     "shell.execute_reply": "2024-10-20T22:36:40.902636Z",
     "shell.execute_reply.started": "2024-10-20T22:31:58.749792Z"
    }
   },
   "outputs": [
    {
     "data": {
      "application/vnd.jupyter.widget-view+json": {
       "model_id": "dfc2b64079f44086840ac0d301da4ee2",
       "version_major": 2,
       "version_minor": 0
      },
      "text/plain": [
       "model.weights.h5:   0%|          | 0.00/10.0G [00:00<?, ?B/s]"
      ]
     },
     "metadata": {},
     "output_type": "display_data"
    },
    {
     "data": {
      "application/vnd.jupyter.widget-view+json": {
       "model_id": "f9def55987284a6a8c4c0a94ce165465",
       "version_major": 2,
       "version_minor": 0
      },
      "text/plain": [
       "vocabulary.spm:   0%|          | 0.00/4.24M [00:00<?, ?B/s]"
      ]
     },
     "metadata": {},
     "output_type": "display_data"
    },
    {
     "data": {
      "application/vnd.jupyter.widget-view+json": {
       "model_id": "f1fe7022f7374a2db85c86a2e80dfbe0",
       "version_major": 2,
       "version_minor": 0
      },
      "text/plain": [
       "Upload 2 LFS files:   0%|          | 0/2 [00:00<?, ?it/s]"
      ]
     },
     "metadata": {},
     "output_type": "display_data"
    }
   ],
   "source": [
    "keras_nlp.upload_preset(hf_uri, './gemma-medic-bot-2b-en')"
   ]
  }
 ],
 "metadata": {
  "kaggle": {
   "accelerator": "none",
   "dataSources": [
    {
     "datasetId": 5778256,
     "sourceId": 9495785,
     "sourceType": "datasetVersion"
    },
    {
     "modelId": 3533,
     "modelInstanceId": 5171,
     "sourceId": 11371,
     "sourceType": "modelInstanceVersion"
    }
   ],
   "dockerImageVersionId": 30762,
   "isGpuEnabled": false,
   "isInternetEnabled": true,
   "language": "python",
   "sourceType": "notebook"
  },
  "kernelspec": {
   "display_name": "Python 3 (ipykernel)",
   "language": "python",
   "name": "python3"
  },
  "language_info": {
   "codemirror_mode": {
    "name": "ipython",
    "version": 3
   },
   "file_extension": ".py",
   "mimetype": "text/x-python",
   "name": "python",
   "nbconvert_exporter": "python",
   "pygments_lexer": "ipython3",
   "version": "3.11.5"
  }
 },
 "nbformat": 4,
 "nbformat_minor": 4
}
